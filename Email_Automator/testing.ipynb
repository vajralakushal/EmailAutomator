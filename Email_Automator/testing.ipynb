{
 "cells": [
  {
   "cell_type": "code",
   "execution_count": 77,
   "metadata": {},
   "outputs": [],
   "source": [
    "import imaplib\n",
    "import base64\n",
    "import os\n",
    "import email\n",
    "import xlrd\n",
    "import xlwt\n",
    "import openpyxl\n",
    "from email.message import EmailMessage"
   ]
  },
  {
   "cell_type": "code",
   "execution_count": 78,
   "metadata": {},
   "outputs": [],
   "source": [
    "class Email:\n",
    "    def __init__(self, sender, subject, body):\n",
    "        self.sender = sender\n",
    "        self.subject = subject\n",
    "        self.body = body\n",
    "        \n",
    "    def summary(self):\n",
    "        print(\"Email From: \" + self.sender)\n",
    "        print(\"Email Subject: \" + self.subject)\n",
    "        print(\"Email Body: \" + self.body)\n"
   ]
  },
  {
   "cell_type": "code",
   "execution_count": 79,
   "metadata": {},
   "outputs": [
    {
     "data": {
      "text/plain": [
       "('OK', [b'LOGIN completed.'])"
      ]
     },
     "execution_count": 79,
     "metadata": {},
     "output_type": "execute_result"
    }
   ],
   "source": [
    "#Set up for connection to outlook IMAP server\n",
    "imap_clients = {\n",
    "    \"outlook\" : (\"imap-mail.outlook.com\", 993)\n",
    "}\n",
    "loginFile = open(\"credentials.txt\", \"r\")\n",
    "connectionInformation = {}\n",
    "for line in loginFile:\n",
    "    key = line.split(\":\")[0]\n",
    "    value = line.split(\":\")[1].rstrip(\"\\n\")\n",
    "    connectionInformation[key] = value\n",
    "\n",
    "client = connectionInformation[\"client\"]\n",
    "#Connect and login to outlook mailbox\n",
    "mailbox = imaplib.IMAP4_SSL(imap_clients[client][0], imap_clients[client][1])\n",
    "username = connectionInformation[\"username\"]\n",
    "password = connectionInformation[\"password\"]\n",
    "mailbox.login(username, password)"
   ]
  },
  {
   "cell_type": "code",
   "execution_count": 80,
   "metadata": {},
   "outputs": [],
   "source": [
    "#Set the current mailbox to search from\n",
    "mailbox.select('Inbox')\n",
    "#Start going through unread emails \n",
    "unread_emails = []\n",
    "type, data = mailbox.search(None, '(UNSEEN)')\n",
    "mail_ids = data[0]\n",
    "id_list = mail_ids.split()\n",
    "temp = data[0].split()\n",
    "if type == \"OK\":\n",
    "    for num in temp:\n",
    "        typ, data = mailbox.fetch(num, '(RFC822)' )\n",
    "        raw_email = data[0][1]\n",
    "        for response_part in data:\n",
    "            if isinstance(response_part, tuple):\n",
    "                #Create new Email object and add it to unread_emails array\n",
    "                msg = email.message_from_string(response_part[1].decode('utf-8'))\n",
    "                email_subject = msg['subject']\n",
    "                email_from = msg['from']\n",
    "                email_body = msg.get_payload()[0].get_payload()\n",
    "                unread_email = EmailMessage()\n",
    "                unread_email['Subject'] = email_subject\n",
    "                unread_email['From'] = email_from\n",
    "                unread_email.set_content(email_body)\n",
    "                unread_emails.append(unread_email)"
   ]
  },
  {
   "cell_type": "code",
   "execution_count": 81,
   "metadata": {},
   "outputs": [],
   "source": [
    "#for email in unread_emails:\n",
    "#    print(email.summary())\n",
    "#body = msg.get_payload()[0].get_payload()\n",
    "#data_index = body.index(\"Name\")\n",
    "#body = body[data_index:].rsplit(\"\\r\\n\")\n",
    "#body"
   ]
  },
  {
   "cell_type": "code",
   "execution_count": 82,
   "metadata": {},
   "outputs": [
    {
     "data": {
      "text/plain": [
       "('BYE', [b'Microsoft Exchange Server IMAP4 server signing off.'])"
      ]
     },
     "execution_count": 82,
     "metadata": {},
     "output_type": "execute_result"
    }
   ],
   "source": [
    "mailbox.close()\n",
    "mailbox.logout()"
   ]
  },
  {
   "cell_type": "code",
   "execution_count": 83,
   "metadata": {},
   "outputs": [],
   "source": [
    "workbook = openpyxl.load_workbook(\"templates.xlsx\")\n",
    "customers = workbook[\"Customers\"]"
   ]
  },
  {
   "cell_type": "code",
   "execution_count": 140,
   "metadata": {},
   "outputs": [
    {
     "name": "stdout",
     "output_type": "stream",
     "text": [
      "one line First Name: Antony\n",
      "one line Last Name: Darsuma\n",
      "one line \n",
      "one line Source: codeninjas.com\n",
      "one line Primary Email: icerain@uwalumni.com\n",
      "one line Primary Phone: 3464123526\n",
      "one line City, State: ,\n",
      "one line \n",
      "one line Child First Name: Julius\n",
      "one line Child Last Name: Darsuma\n",
      "one line \n",
      "one line Comments: Additional Information Child: Julius Darsuma Referrer:\n",
      "one line https://www.codeninjas.com/tx-cypress\n",
      "one line First Name: Jes\n",
      "one line Last Name: Byboth\n",
      "one line \n",
      "one line Source: codeninjas.com\n",
      "one line Primary Email: jesbyboth@gmail.com\n",
      "one line Primary Phone: 9794504780\n",
      "one line City, State: ,\n",
      "one line \n",
      "one line Child First Name: Aiden\n",
      "one line Child Last Name: Byboth\n",
      "one line \n",
      "one line Comments: Additional Information Inquired About: Code Ninjas CREATE Program\n",
      "one line Slug: code-ninjas-create Child: Aiden Byboth Referrer:\n",
      "one line https://www.codeninjas.com/tx-cypress/code-ninjas-create/request-information\n"
     ]
    }
   ],
   "source": [
    "#Create param dict\n",
    "for email in unread_emails:\n",
    "    param_dict = {}\n",
    "    email_body = email.get_content()#.splitlines()\n",
    "    #email_body = email.body.replace(\"\\r\\n\\r\\n\", \"\\n\")\n",
    "    #email_body = email.body.replace(\"\\r\\n\", \"\\n\")\n",
    "    #email_body = email_body.replace(\"\\n\\n\", \" \\n\")\n",
    "    #email_body = email.body.replace(\"\\n\", \"\")\n",
    "    #email_body = email_body.rsplit(\": \")\n",
    "    #print(email_body)\n",
    "    \n",
    "    key= \"\"\n",
    "    value = \"\"\n",
    "    for character in email_body:\n",
    "        if character != '\\n':\n",
    "            key = key + character\n",
    "            \n",
    "        if character == '\\n':\n",
    "            print(\"one line \" + key)\n",
    "            key = \"\"\n",
    "            "
   ]
  },
  {
   "cell_type": "code",
   "execution_count": null,
   "metadata": {},
   "outputs": [],
   "source": [
    "    \n",
    "    for param in email.body:\n",
    "        #print(param)\n",
    "        if \": \" in param:\n",
    "            (key, value) = param.split(\": \")[0], param.split(\": \")[1]\n",
    "            param_dict[key] = value\n",
    "    print(param_dict)"
   ]
  },
  {
   "cell_type": "code",
   "execution_count": 8,
   "metadata": {},
   "outputs": [],
   "source": [
    "#Insert information into excel sheet \n",
    "key_dict = []\n",
    "for row in customers.iter_cols(min_row=1, max_col=customers.max_column, max_row=2, values_only=True):\n",
    "    key_dict.append(row[0])\n",
    "\n",
    "new_customer_row = customers.max_row + 1\n",
    "for current_col in range(customers.max_column):\n",
    "    if key_dict[current_col] in param_dict:\n",
    "        customers.cell(row=new_customer_row, column=current_col + 1).value = param_dict[key_dict[current_col]]\n",
    "        "
   ]
  },
  {
   "cell_type": "code",
   "execution_count": 9,
   "metadata": {},
   "outputs": [],
   "source": [
    "workbook.save(\"templates.xlsx\")"
   ]
  },
  {
   "cell_type": "code",
   "execution_count": null,
   "metadata": {},
   "outputs": [],
   "source": []
  },
  {
   "cell_type": "code",
   "execution_count": null,
   "metadata": {},
   "outputs": [],
   "source": []
  }
 ],
 "metadata": {
  "kernelspec": {
   "display_name": "Python 3",
   "language": "python",
   "name": "python3"
  },
  "language_info": {
   "codemirror_mode": {
    "name": "ipython",
    "version": 3
   },
   "file_extension": ".py",
   "mimetype": "text/x-python",
   "name": "python",
   "nbconvert_exporter": "python",
   "pygments_lexer": "ipython3",
   "version": "3.7.7"
  }
 },
 "nbformat": 4,
 "nbformat_minor": 4
}
