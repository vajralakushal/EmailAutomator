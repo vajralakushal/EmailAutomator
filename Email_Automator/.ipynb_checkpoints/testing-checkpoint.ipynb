{
 "cells": [
  {
   "cell_type": "code",
   "execution_count": 1,
   "metadata": {},
   "outputs": [],
   "source": [
    "import imaplib\n",
    "import base64\n",
    "import os\n",
    "import email\n",
    "import xlrd\n",
    "import xlwt\n",
    "import openpyxl"
   ]
  },
  {
   "cell_type": "code",
   "execution_count": 2,
   "metadata": {},
   "outputs": [
    {
     "data": {
      "text/plain": [
       "('OK', [b'LOGIN completed.'])"
      ]
     },
     "execution_count": 2,
     "metadata": {},
     "output_type": "execute_result"
    }
   ],
   "source": [
    "imap_clients = {\n",
    "    \"outlook\" : (\"imap-mail.outlook.com\", 993)\n",
    "}\n",
    "\n",
    "loginFile = open(\"credentials.txt\", \"r\")\n",
    "connectionInformation = {}\n",
    "for line in loginFile:\n",
    "    key = line.split(\":\")[0]\n",
    "    value = line.split(\":\")[1].rstrip(\"\\n\")\n",
    "    connectionInformation[key] = value\n",
    "\n",
    "client = connectionInformation[\"client\"]\n",
    "#Login to \n",
    "mailbox = imaplib.IMAP4_SSL(imap_clients[client][0], imap_clients[client][1])\n",
    "username = connectionInformation[\"username\"]\n",
    "password = connectionInformation[\"password\"]\n",
    "mailbox.login(username, password)"
   ]
  },
  {
   "cell_type": "code",
   "execution_count": 3,
   "metadata": {},
   "outputs": [
    {
     "name": "stdout",
     "output_type": "stream",
     "text": [
      "From : Ayaan Mahimwala <ayaanhaider@gmail.com>\n",
      "\n",
      "Subject : Code Ninjas Notification - New Lead\n",
      "\n",
      "First Name: Antony\r\n",
      "Last Name: Darsuma\r\n",
      "\r\n",
      "Source: codeninjas.com\r\n",
      "Primary Email: icerain@uwalumni.com\r\n",
      "Primary Phone: 3464123526\r\n",
      "City, State: ,\r\n",
      "\r\n",
      "Child First Name: Julius\r\n",
      "Child Last Name: Darsuma\r\n",
      "\r\n",
      "Comments: Additional Information Child: Julius Darsuma Referrer:\r\n",
      "https://www.codeninjas.com/tx-cypress\r\n",
      "\n",
      "From : Ayaan Mahimwala <ayaanhaider@gmail.com>\n",
      "\n",
      "Subject : Code Ninjas Notification - New Lead\n",
      "\n",
      "First Name: Jes\r\n",
      "Last Name: Byboth\r\n",
      "\r\n",
      "Source: codeninjas.com\r\n",
      "Primary Email: jesbyboth@gmail.com\r\n",
      "Primary Phone: 9794504780\r\n",
      "City, State: ,\r\n",
      "\r\n",
      "Child First Name: Aiden\r\n",
      "Child Last Name: Byboth\r\n",
      "\r\n",
      "Comments: Additional Information Inquired About: Code Ninjas CREATE Program\r\n",
      "Slug: code-ninjas-create Child: Aiden Byboth Referrer:\r\n",
      "https://www.codeninjas.com/tx-cypress/code-ninjas-create/request-information\r\n",
      "\n"
     ]
    }
   ],
   "source": [
    "mailbox.select('Inbox') #set the current mailbox to search from.\n",
    "type, data = mailbox.search(None, '(UNSEEN)')\n",
    "mail_ids = data[0]\n",
    "id_list = mail_ids.split()\n",
    "temp = data[0].split()\n",
    "if type == \"OK\":\n",
    "    for num in temp:\n",
    "        typ, data = mailbox.fetch(num, '(RFC822)' )\n",
    "        raw_email = data[0][1]\n",
    "        for response_part in data:\n",
    "            if isinstance(response_part, tuple):\n",
    "                msg = email.message_from_string(response_part[1].decode('utf-8'))\n",
    "                email_subject = msg['subject']\n",
    "                email_from = msg['from']\n",
    "                print ('From : ' + email_from + '\\n')\n",
    "                print ('Subject : ' + email_subject + '\\n')\n",
    "                print(msg.get_payload()[0].get_payload())\n",
    "                \"\"\"if msg.is_multipart():\n",
    "                    payload_counter = 1\n",
    "                    for payload in msg.get_payload():\n",
    "                        print(payload.get_payload() + \"This is payload number \", payload_counter)\n",
    "                        payload_counter += 1\n",
    "                else:\n",
    "                    print(msg.get_payload()[0])\"\"\""
   ]
  },
  {
   "cell_type": "code",
   "execution_count": 4,
   "metadata": {},
   "outputs": [
    {
     "data": {
      "text/plain": [
       "['Name: Jes',\n",
       " 'Last Name: Byboth',\n",
       " '',\n",
       " 'Source: codeninjas.com',\n",
       " 'Primary Email: jesbyboth@gmail.com',\n",
       " 'Primary Phone: 9794504780',\n",
       " 'City, State: ,',\n",
       " '',\n",
       " 'Child First Name: Aiden',\n",
       " 'Child Last Name: Byboth',\n",
       " '',\n",
       " 'Comments: Additional Information Inquired About: Code Ninjas CREATE Program',\n",
       " 'Slug: code-ninjas-create Child: Aiden Byboth Referrer:',\n",
       " 'https://www.codeninjas.com/tx-cypress/code-ninjas-create/request-information',\n",
       " '']"
      ]
     },
     "execution_count": 4,
     "metadata": {},
     "output_type": "execute_result"
    }
   ],
   "source": [
    "body = msg.get_payload()[0].get_payload()\n",
    "data_index = body.index(\"Name\")\n",
    "body = body[data_index:].rsplit(\"\\r\\n\")\n",
    "body"
   ]
  },
  {
   "cell_type": "code",
   "execution_count": 5,
   "metadata": {},
   "outputs": [
    {
     "data": {
      "text/plain": [
       "('BYE', [b'Microsoft Exchange Server IMAP4 server signing off.'])"
      ]
     },
     "execution_count": 5,
     "metadata": {},
     "output_type": "execute_result"
    }
   ],
   "source": [
    "mailbox.close()\n",
    "mailbox.logout()"
   ]
  },
  {
   "cell_type": "code",
   "execution_count": 6,
   "metadata": {},
   "outputs": [],
   "source": [
    "workbook = openpyxl.load_workbook(\"templates.xlsx\")\n",
    "customers = workbook[\"Customers\"]"
   ]
  },
  {
   "cell_type": "code",
   "execution_count": 7,
   "metadata": {},
   "outputs": [
    {
     "name": "stdout",
     "output_type": "stream",
     "text": [
      "{'Name': 'Jes', 'Last Name': 'Byboth', 'Source': 'codeninjas.com', 'Primary Email': 'jesbyboth@gmail.com', 'Primary Phone': '9794504780', 'City, State': ',', 'Child First Name': 'Aiden', 'Child Last Name': 'Byboth', 'Comments': 'Additional Information Inquired About', 'Slug': 'code-ninjas-create Child'}\n"
     ]
    }
   ],
   "source": [
    "\n",
    "#Create param dict\n",
    "param_dict = {}\n",
    "for param in body:\n",
    "    if \": \" in param:\n",
    "        (key, value) = param.split(\": \")[0], param.split(\": \")[1]\n",
    "        param_dict[key] = value\n",
    "\n",
    "print(param_dict)"
   ]
  },
  {
   "cell_type": "code",
   "execution_count": 8,
   "metadata": {},
   "outputs": [],
   "source": [
    "#Insert information into excel sheet \n",
    "key_dict = []\n",
    "for row in customers.iter_cols(min_row=1, max_col=customers.max_column, max_row=2, values_only=True):\n",
    "    key_dict.append(row[0])\n",
    "\n",
    "new_customer_row = customers.max_row + 1\n",
    "for current_col in range(customers.max_column):\n",
    "    if key_dict[current_col] in param_dict:\n",
    "        customers.cell(row=new_customer_row, column=current_col + 1).value = param_dict[key_dict[current_col]]\n",
    "        "
   ]
  },
  {
   "cell_type": "code",
   "execution_count": 9,
   "metadata": {},
   "outputs": [],
   "source": [
    "workbook.save(\"templates.xlsx\")"
   ]
  },
  {
   "cell_type": "code",
   "execution_count": null,
   "metadata": {},
   "outputs": [],
   "source": []
  },
  {
   "cell_type": "code",
   "execution_count": null,
   "metadata": {},
   "outputs": [],
   "source": []
  }
 ],
 "metadata": {
  "kernelspec": {
   "display_name": "Python 3",
   "language": "python",
   "name": "python3"
  },
  "language_info": {
   "codemirror_mode": {
    "name": "ipython",
    "version": 3
   },
   "file_extension": ".py",
   "mimetype": "text/x-python",
   "name": "python",
   "nbconvert_exporter": "python",
   "pygments_lexer": "ipython3",
   "version": "3.7.7"
  }
 },
 "nbformat": 4,
 "nbformat_minor": 4
}
