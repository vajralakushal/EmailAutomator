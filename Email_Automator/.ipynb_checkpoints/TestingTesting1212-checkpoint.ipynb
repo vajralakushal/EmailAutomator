{
 "cells": [
  {
   "cell_type": "code",
   "execution_count": 17,
   "metadata": {},
   "outputs": [],
   "source": [
    "import imaplib\n",
    "import base64\n",
    "import os\n",
    "import email\n",
    "import xlrd\n",
    "import xlwt"
   ]
  },
  {
   "cell_type": "code",
   "execution_count": 18,
   "metadata": {},
   "outputs": [
    {
     "data": {
      "text/plain": [
       "('OK', [b'LOGIN completed.'])"
      ]
     },
     "execution_count": 18,
     "metadata": {},
     "output_type": "execute_result"
    }
   ],
   "source": [
    "imap_clients = {\n",
    "    \"outlook\" : (\"imap-mail.outlook.com\", 993)\n",
    "}\n",
    "\n",
    "loginFile = open(\"credentials.txt\", \"r\")\n",
    "connectionInformation = {}\n",
    "for line in loginFile:\n",
    "    key = line.split(\":\")[0]\n",
    "    value = line.split(\":\")[1].rstrip(\"\\n\")\n",
    "    connectionInformation[key] = value\n",
    "\n",
    "client = connectionInformation[\"client\"]\n",
    "\n",
    "mailbox = imaplib.IMAP4_SSL(imap_clients[client][0], imap_clients[client][1])\n",
    "username = connectionInformation[\"username\"]\n",
    "password = connectionInformation[\"password\"]\n",
    "mailbox.login(username, password)"
   ]
  },
  {
   "cell_type": "code",
   "execution_count": 19,
   "metadata": {},
   "outputs": [
    {
     "name": "stdout",
     "output_type": "stream",
     "text": [
      "From : Ayaan Mahimwala <ayaanhaider@gmail.com>\n",
      "\n",
      "Subject : LEAD ALERT: Bill test - ayaanhaider@gmail.com\n",
      "\n",
      "A lead has been submitted through your center's webpage. Here is their\r\n",
      "information:\r\n",
      "\r\n",
      "Name: Bill test\r\n",
      "First name: Bill\r\n",
      "Last name: Test\r\n",
      "Email: ayaanhaider@gmail.com\r\n",
      "Location: Cypress, Texas\r\n",
      "Child's name: Shawn Test\r\n",
      "Child's age:\r\n",
      "Child 2's name:\r\n",
      "Child 2's age:\r\n",
      "\n"
     ]
    }
   ],
   "source": [
    "mailbox.select('Inbox') #set the current mailbox to search from.\n",
    "type, data = mailbox.search(None, '(UNSEEN)')\n",
    "mail_ids = data[0]\n",
    "id_list = mail_ids.split()\n",
    "temp = data[0].split()\n",
    "if type == \"OK\":\n",
    "    for num in temp:\n",
    "        typ, data = mailbox.fetch(num, '(RFC822)' )\n",
    "        raw_email = data[0][1]\n",
    "        for response_part in data:\n",
    "            if isinstance(response_part, tuple):\n",
    "                msg = email.message_from_string(response_part[1].decode('utf-8'))\n",
    "                email_subject = msg['subject']\n",
    "                email_from = msg['from']\n",
    "                print ('From : ' + email_from + '\\n')\n",
    "                print ('Subject : ' + email_subject + '\\n')\n",
    "                print(msg.get_payload()[0].get_payload())\n",
    "                \"\"\"if msg.is_multipart():\n",
    "                    payload_counter = 1\n",
    "                    for payload in msg.get_payload():\n",
    "                        print(payload.get_payload() + \"This is payload number \", payload_counter)\n",
    "                        payload_counter += 1\n",
    "                else:\n",
    "                    print(msg.get_payload()[0])\"\"\""
   ]
  },
  {
   "cell_type": "code",
   "execution_count": 20,
   "metadata": {},
   "outputs": [
    {
     "data": {
      "text/plain": [
       "['Name: Bill test',\n",
       " 'First name: Bill',\n",
       " 'Last name: Test',\n",
       " 'Email: ayaanhaider@gmail.com',\n",
       " 'Location: Cypress, Texas',\n",
       " \"Child's name: Shawn Test\",\n",
       " \"Child's age:\",\n",
       " \"Child 2's name:\",\n",
       " \"Child 2's age:\",\n",
       " '']"
      ]
     },
     "execution_count": 20,
     "metadata": {},
     "output_type": "execute_result"
    }
   ],
   "source": [
    "body = msg.get_payload()[0].get_payload()\n",
    "data_index = body.index(\"Name\")\n",
    "body = body[data_index:].rsplit(\"\\r\\n\")\n",
    "body"
   ]
  },
  {
   "cell_type": "code",
   "execution_count": 21,
   "metadata": {},
   "outputs": [
    {
     "data": {
      "text/plain": [
       "('BYE', [b'Microsoft Exchange Server IMAP4 server signing off.'])"
      ]
     },
     "execution_count": 21,
     "metadata": {},
     "output_type": "execute_result"
    }
   ],
   "source": [
    "mailbox.close()\n",
    "mailbox.logout()"
   ]
  },
  {
   "cell_type": "code",
   "execution_count": 24,
   "metadata": {},
   "outputs": [],
   "source": [
    "import openpyxl"
   ]
  },
  {
   "cell_type": "code",
   "execution_count": 29,
   "metadata": {},
   "outputs": [],
   "source": [
    "workbook = openpyxl.load_workbook(\"templates.xlsx\")\n",
    "customers = workbook[\"Customers\"]"
   ]
  },
  {
   "cell_type": "code",
   "execution_count": 40,
   "metadata": {},
   "outputs": [],
   "source": [
    "\n",
    "#Create param dict\n",
    "param_dict = {}\n",
    "for param in body:\n",
    "    if \": \" in param:\n",
    "        (key, value) = param.split(\": \")[0], param.split(\": \")[1]\n",
    "        param_dict[key] = value\n",
    "\n"
   ]
  },
  {
   "cell_type": "code",
   "execution_count": 45,
   "metadata": {},
   "outputs": [
    {
     "name": "stdout",
     "output_type": "stream",
     "text": [
      "('Name', None)\n",
      "('First Name', None)\n",
      "('Last Name', None)\n",
      "('Location', None)\n",
      "('Email', None)\n",
      "(\"Child's Name\", None)\n",
      "('Child Age', None)\n",
      "('Email Sent', None)\n",
      "('Email Date', None)\n",
      "('Response', None)\n",
      "('Response Date', None)\n"
     ]
    }
   ],
   "source": [
    "#Insert information into excel sheet \n",
    "#Need to fix hardcoding max_col property\n",
    "for row in customers.iter_cols(min_row=1, max_col=11, max_row=2, values_only=True):\n",
    "    print(row)\n"
   ]
  },
  {
   "cell_type": "code",
   "execution_count": null,
   "metadata": {},
   "outputs": [],
   "source": [
    "for item in range(5)\n",
    "    if item in param_dict:\n",
    "        customers.write(new_customer_row, index, param_dict[item])\n",
    "    index += 1\n",
    "\n",
    "workbook.save(\"templates.xlsx\")"
   ]
  }
 ],
 "metadata": {
  "kernelspec": {
   "display_name": "Python 3",
   "language": "python",
   "name": "python3"
  },
  "language_info": {
   "codemirror_mode": {
    "name": "ipython",
    "version": 3
   },
   "file_extension": ".py",
   "mimetype": "text/x-python",
   "name": "python",
   "nbconvert_exporter": "python",
   "pygments_lexer": "ipython3",
   "version": "3.7.7"
  }
 },
 "nbformat": 4,
 "nbformat_minor": 4
}
